{
 "cells": [
  {
   "cell_type": "code",
   "execution_count": 1,
   "id": "a80f1770",
   "metadata": {},
   "outputs": [],
   "source": [
    "# Title: T-Line Reflection Calculator\n",
    "# Author: Gerald Atwood\n",
    "# Date Published: 1/30/2023\n",
    "# Description: For EEET-433: Transmission Lines Course @ RIT. Calculates\n",
    "# Transmission Line time delay, reflection coefficients, and the number \n",
    "# of reflected waves until the transmission line reaches its steady-state voltage"
   ]
  },
  {
   "cell_type": "code",
   "execution_count": 2,
   "id": "3a8eb74c",
   "metadata": {},
   "outputs": [],
   "source": [
    "# Modules\n",
    "import math\n",
    "from matplotlib import pyplot as plt"
   ]
  },
  {
   "cell_type": "code",
   "execution_count": 3,
   "id": "7a15133d",
   "metadata": {},
   "outputs": [],
   "source": [
    "# Known Variables\n",
    "Vs = 10 # Source Voltage, DC Source, Volts\n",
    "Rs = 75 # Source Impedance, Ohms\n",
    "d = 1.2 # Transmission Line Length, Meters\n",
    "Ro = 50 # Transmission Line Impedance, Ohms\n",
    "Vp = 3*(10**8) * (2/3) # Velocity of Propagation of Transmission Line, meters/second\n",
    "Rl = 10 # Load Impedance, Ohms"
   ]
  },
  {
   "cell_type": "code",
   "execution_count": 4,
   "id": "02fcce1e",
   "metadata": {},
   "outputs": [],
   "source": [
    "# Calculating Time Delay, reflection coefficients and initial voltage at input of T-Line\n",
    "td = d/Vp # Time Delay of Transmission Line\n",
    "r_s = (Rs - Ro)/(Rs + Ro) # Source Reflection Coeff.\n",
    "r_l = (Rl - Ro)/(Rl + Ro) # Load Reflection Coeff.\n",
    "Vf = round(((Ro)/(Rs + Ro)) * Vs,5) # Initial Voltage at T-Line Input\n",
    "Vr = round(Vf*r_l,5) # Reflected Wave, first reflection\n",
    "Vl = Vf + Vr # Load Voltage, first reflection\n",
    "V_ss = round(Vs*((Rl)/(Rl + Rs)),5) # steady-State Voltage"
   ]
  },
  {
   "cell_type": "code",
   "execution_count": 5,
   "id": "b08b5084",
   "metadata": {},
   "outputs": [],
   "source": [
    "# Loop reflection calculations until equilibrium\n",
    "Vf_list = []\n",
    "Vr_list = []\n",
    "Vf_list.append(Vf)\n",
    "Vr_list.append(Vr)\n",
    "V_line_list = []\n",
    "V_line_list.append(Vf)\n",
    "V_line_list.append(Vr)\n",
    "\n",
    "numBounces = 2 # Number of times the signal has traveled through the T-Line\n",
    "# NOTE: Starts at 2 since the first two reflections have already been calculated\n",
    "while math.isclose(0,Vr_list[-1],abs_tol = 0.05) == False:\n",
    "    Vf = round(Vr*r_s,5)\n",
    "    Vf_list.append(Vf)\n",
    "    V_line_list.append(Vf)\n",
    "    numBounces += 1\n",
    "    Vr = round(Vf*r_l,5)\n",
    "    Vr_list.append(Vr)\n",
    "    V_line_list.append(Vf)\n",
    "    numBounces += 1\n",
    "    "
   ]
  },
  {
   "cell_type": "code",
   "execution_count": 6,
   "id": "bc1c836a",
   "metadata": {},
   "outputs": [
    {
     "name": "stdout",
     "output_type": "stream",
     "text": [
      "Time Delay: 6.000E-09 <Seconds>\n",
      "\n",
      "Source Reflection Coeff: 2.000E-01\n",
      "\n",
      "Load Reflection Coeff: -6.667E-01\n",
      "\n",
      "Steady-State Voltage: 1.176E+00 <Volts>\n",
      "\n",
      "Source Reflection Voltages: \n",
      "4.000E+00 <Volts>\n",
      "-5.333E-01 <Volts>\n",
      "7.111E-02 <Volts>\n",
      "\n",
      "Load Reflection Voltages: \n",
      "-2.667E+00 <Volts>\n",
      "3.555E-01 <Volts>\n",
      "-4.741E-02 <Volts>\n",
      "\n",
      "Num. of Reflections: 6\n"
     ]
    }
   ],
   "source": [
    "# Print out Results\n",
    "td_txt = \"Time Delay: {:.3E} <Seconds>\".format(td)\n",
    "print(td_txt)\n",
    "print()\n",
    "r_s_txt = \"Source Reflection Coeff: {:.3E}\".format(r_s)\n",
    "print(r_s_txt)\n",
    "print()\n",
    "r_l_txt = \"Load Reflection Coeff: {:.3E}\".format(r_l)\n",
    "print(r_l_txt)\n",
    "print()\n",
    "V_ss_txt = \"Steady-State Voltage: {:.3E} <Volts>\".format(V_ss)\n",
    "print(V_ss_txt)\n",
    "print()\n",
    "print(\"Source Reflection Voltages: \")\n",
    "for i in Vf_list:\n",
    "    print (\"{:.3E} <Volts>\".format(i))\n",
    "print()\n",
    "print(\"Load Reflection Voltages: \")\n",
    "for i in Vr_list:\n",
    "    print (\"{:.3E} <Volts>\".format(i))\n",
    "print()\n",
    "print(\"Num. of Reflections: {}\".format(numBounces))"
   ]
  },
  {
   "cell_type": "code",
   "execution_count": null,
   "id": "5c03c4e3",
   "metadata": {},
   "outputs": [],
   "source": []
  },
  {
   "cell_type": "code",
   "execution_count": null,
   "id": "e8400d75",
   "metadata": {},
   "outputs": [],
   "source": []
  }
 ],
 "metadata": {
  "kernelspec": {
   "display_name": "Python 3",
   "language": "python",
   "name": "python3"
  },
  "language_info": {
   "codemirror_mode": {
    "name": "ipython",
    "version": 3
   },
   "file_extension": ".py",
   "mimetype": "text/x-python",
   "name": "python",
   "nbconvert_exporter": "python",
   "pygments_lexer": "ipython3",
   "version": "3.7.11"
  },
  "varInspector": {
   "cols": {
    "lenName": 16,
    "lenType": 16,
    "lenVar": 40
   },
   "kernels_config": {
    "python": {
     "delete_cmd_postfix": "",
     "delete_cmd_prefix": "del ",
     "library": "var_list.py",
     "varRefreshCmd": "print(var_dic_list())"
    },
    "r": {
     "delete_cmd_postfix": ") ",
     "delete_cmd_prefix": "rm(",
     "library": "var_list.r",
     "varRefreshCmd": "cat(var_dic_list()) "
    }
   },
   "oldHeight": 411.85,
   "position": {
    "height": "682.85px",
    "left": "1551px",
    "right": "20px",
    "top": "121px",
    "width": "339px"
   },
   "types_to_exclude": [
    "module",
    "function",
    "builtin_function_or_method",
    "instance",
    "_Feature"
   ],
   "varInspector_section_display": "block",
   "window_display": true
  }
 },
 "nbformat": 4,
 "nbformat_minor": 5
}
