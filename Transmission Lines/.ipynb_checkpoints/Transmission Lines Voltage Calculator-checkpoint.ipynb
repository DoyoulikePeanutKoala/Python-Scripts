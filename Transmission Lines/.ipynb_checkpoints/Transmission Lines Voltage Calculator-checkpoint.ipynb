{
 "cells": [
  {
   "cell_type": "code",
   "execution_count": 1,
   "id": "66049277",
   "metadata": {},
   "outputs": [],
   "source": [
    "# Title: T-Line Reflection Calculator\n",
    "# Author: Gerald Atwood\n",
    "# Date Published: 1/30/2023\n",
    "# Description: For EEET-433: Transmission Lines Course @ RIT. Calculates\n",
    "# Transmission Line time delay, reflection coefficients, and the number \n",
    "# of reflected waves until the transmission line reaches its steady-state voltage"
   ]
  },
  {
   "cell_type": "code",
   "execution_count": 2,
   "id": "6b2285e7",
   "metadata": {},
   "outputs": [],
   "source": [
    "# Modules\n",
    "import math\n",
    "from matplotlib import pyplot as plt"
   ]
  },
  {
   "cell_type": "code",
   "execution_count": 3,
   "id": "c8281614",
   "metadata": {},
   "outputs": [],
   "source": [
    "# Known Variables\n",
    "Vs = 10 # Source Voltage, DC Source, Volts\n",
    "Rs = 25 # Source Impedance, Ohms\n",
    "d = 1 # Transmission Line Length, Meters\n",
    "Ro = 50 # Transmission Line Impedance, Ohms\n",
    "Vp = 3*(10**8) # Velocity of Propagation of Transmission Line, meters/second\n",
    "Rl = 100 # Load Impedance, Ohms"
   ]
  },
  {
   "cell_type": "code",
   "execution_count": 4,
   "id": "ea471d46",
   "metadata": {},
   "outputs": [],
   "source": [
    "# Calculating Time Delay, reflection coefficients and initial voltage at input of T-Line\n",
    "td = d/Vp # Time Delay of Transmission Line\n",
    "r_s = (Rs - Ro)/(Rs + Ro) # Source Reflection Coeff.\n",
    "r_l = (Rl - Ro)/(Rl + Ro) # Load Reflection Coeff.\n",
    "Vf = round(((Ro)/(Rs + Ro)) * Vs,3) # Initial Voltage at T-Line Input\n",
    "Vr = round(Vf*r_l,3) # Reflected Wave, first reflection\n",
    "Vl = Vf + Vr # Load Voltage, first reflection\n",
    "V_ss = round(Vs*((Rl)/(Rl + Rs)),3) # steady-State Voltage"
   ]
  },
  {
   "cell_type": "code",
   "execution_count": 5,
   "id": "f7075c08",
   "metadata": {},
   "outputs": [],
   "source": [
    "# Loop reflection calculations until equilibrium\n",
    "Vf_list = []\n",
    "Vr_list = []\n",
    "Vf_list.append(Vf)\n",
    "Vr_list.append(Vr)\n",
    "V_line_list = []\n",
    "V_line_list.append(Vf)\n",
    "V_line_list.append(Vr)\n",
    "numBounces = 2 # Number of times the signal has traveled through the T-Line\n",
    "# NOTE: Starts at 2 since the first two reflections have already been calculated\n",
    "while math.isclose(0,Vr_list[-1],abs_tol = 0.1) == False:\n",
    "    Vf = round(Vr*r_s,3)\n",
    "    Vf_list.append(Vf)\n",
    "    V_line_list.append(Vf)\n",
    "    numBounces += 1\n",
    "    Vr = round(Vf*r_l,3)\n",
    "    Vr_list.append(Vr)\n",
    "    V_line_list.append(Vf)\n",
    "    numBounces += 1\n",
    "    "
   ]
  },
  {
   "cell_type": "code",
   "execution_count": 6,
   "id": "27ca5bdf",
   "metadata": {},
   "outputs": [
    {
     "name": "stdout",
     "output_type": "stream",
     "text": [
      "Time Delay: 3.333E-09 <Seconds>\n",
      "\n",
      "Source Reflection Coeff: -3.333E-01\n",
      "\n",
      "Load Reflection Coeff: 3.333E-01\n",
      "\n",
      "Steady-State Voltage: 8.000E+00 <Volts>\n",
      "\n",
      "Source Reflection Voltages: \n",
      "6.667E+00 <Volts>\n",
      "-7.410E-01 <Volts>\n",
      "8.200E-02 <Volts>\n",
      "\n",
      "Load Reflection Voltages: \n",
      "2.222E+00 <Volts>\n",
      "-2.470E-01 <Volts>\n",
      "2.700E-02 <Volts>\n",
      "\n",
      "Num. of Reflections: 6\n"
     ]
    }
   ],
   "source": [
    "# Print out Results\n",
    "td_txt = \"Time Delay: {:.3E} <Seconds>\".format(td)\n",
    "print(td_txt)\n",
    "print()\n",
    "r_s_txt = \"Source Reflection Coeff: {:.3E}\".format(r_s)\n",
    "print(r_s_txt)\n",
    "print()\n",
    "r_l_txt = \"Load Reflection Coeff: {:.3E}\".format(r_l)\n",
    "print(r_l_txt)\n",
    "print()\n",
    "V_ss_txt = \"Steady-State Voltage: {:.3E} <Volts>\".format(V_ss)\n",
    "print(V_ss_txt)\n",
    "print()\n",
    "print(\"Source Reflection Voltages: \")\n",
    "for i in Vf_list:\n",
    "    print (\"{:.3E} <Volts>\".format(i))\n",
    "print()\n",
    "print(\"Load Reflection Voltages: \")\n",
    "for i in Vr_list:\n",
    "    print (\"{:.3E} <Volts>\".format(i))\n",
    "print()\n",
    "print(\"Num. of Reflections: {}\".format(numBounces))"
   ]
  },
  {
   "cell_type": "code",
   "execution_count": 11,
   "id": "e7c88420",
   "metadata": {},
   "outputs": [
    {
     "ename": "TypeError",
     "evalue": "cannot unpack non-iterable AxesSubplot object",
     "output_type": "error",
     "traceback": [
      "\u001b[1;31m---------------------------------------------------------------------------\u001b[0m",
      "\u001b[1;31mTypeError\u001b[0m                                 Traceback (most recent call last)",
      "\u001b[1;32m<ipython-input-11-70d2e59259c8>\u001b[0m in \u001b[0;36m<module>\u001b[1;34m\u001b[0m\n\u001b[0;32m      4\u001b[0m \u001b[1;33m\u001b[0m\u001b[0m\n\u001b[0;32m      5\u001b[0m \u001b[1;31m# Beginning of the Line\u001b[0m\u001b[1;33m\u001b[0m\u001b[1;33m\u001b[0m\u001b[1;33m\u001b[0m\u001b[0m\n\u001b[1;32m----> 6\u001b[1;33m \u001b[0mfig\u001b[0m\u001b[1;33m,\u001b[0m\u001b[0max\u001b[0m \u001b[1;33m=\u001b[0m \u001b[0mplt\u001b[0m\u001b[1;33m.\u001b[0m\u001b[0msubplot\u001b[0m\u001b[1;33m(\u001b[0m\u001b[1;33m)\u001b[0m\u001b[1;33m\u001b[0m\u001b[1;33m\u001b[0m\u001b[0m\n\u001b[0m\u001b[0;32m      7\u001b[0m \u001b[0max\u001b[0m\u001b[1;33m.\u001b[0m\u001b[0mstep\u001b[0m\u001b[1;33m(\u001b[0m\u001b[0mtimeList\u001b[0m\u001b[1;33m,\u001b[0m \u001b[0mV_line_list\u001b[0m\u001b[1;33m,\u001b[0m \u001b[0mlineWidth\u001b[0m \u001b[1;33m=\u001b[0m \u001b[1;36m2\u001b[0m\u001b[1;33m)\u001b[0m\u001b[1;33m\u001b[0m\u001b[1;33m\u001b[0m\u001b[0m\n\u001b[0;32m      8\u001b[0m \u001b[1;33m\u001b[0m\u001b[0m\n",
      "\u001b[1;31mTypeError\u001b[0m: cannot unpack non-iterable AxesSubplot object"
     ]
    },
    {
     "data": {
      "image/png": "[encoded data removed]",
      "text/plain": [
       "<Figure size 432x288 with 1 Axes>"
      ]
     },
     "metadata": {
      "needs_background": "light"
     },
     "output_type": "display_data"
    }
   ],
   "source": [
    "# Plotting Stuff, DO NOT USE IN TI NSPIRE\n",
    "timeList = list(range(0,numBounces+1))\n",
    "timeList = [i * td for i in timeList]\n",
    "\n",
    "# Beginning of the Line\n",
    "fig,ax = plt.subplot()\n",
    "ax.step(timeList, V_line_list, lineWidth = 2)\n",
    "\n",
    "plt.show()\n",
    "\n",
    "# End of the Line\n"
   ]
  },
  {
   "cell_type": "code",
   "execution_count": null,
   "id": "d6652a81",
   "metadata": {},
   "outputs": [],
   "source": []
  }
 ],
 "metadata": {
  "kernelspec": {
   "display_name": "Python 3",
   "language": "python",
   "name": "python3"
  },
  "language_info": {
   "codemirror_mode": {
    "name": "ipython",
    "version": 3
   },
   "file_extension": ".py",
   "mimetype": "text/x-python",
   "name": "python",
   "nbconvert_exporter": "python",
   "pygments_lexer": "ipython3",
   "version": "3.7.11"
  },
  "varInspector": {
   "cols": {
    "lenName": 16,
    "lenType": 16,
    "lenVar": 40
   },
   "kernels_config": {
    "python": {
     "delete_cmd_postfix": "",
     "delete_cmd_prefix": "del ",
     "library": "var_list.py",
     "varRefreshCmd": "print(var_dic_list())"
    },
    "r": {
     "delete_cmd_postfix": ") ",
     "delete_cmd_prefix": "rm(",
     "library": "var_list.r",
     "varRefreshCmd": "cat(var_dic_list()) "
    }
   },
   "oldHeight": 411.85,
   "position": {
    "height": "682.85px",
    "left": "1551px",
    "right": "20px",
    "top": "121px",
    "width": "339px"
   },
   "types_to_exclude": [
    "module",
    "function",
    "builtin_function_or_method",
    "instance",
    "_Feature"
   ],
   "varInspector_section_display": "block",
   "window_display": true
  }
 },
 "nbformat": 4,
 "nbformat_minor": 5
}
